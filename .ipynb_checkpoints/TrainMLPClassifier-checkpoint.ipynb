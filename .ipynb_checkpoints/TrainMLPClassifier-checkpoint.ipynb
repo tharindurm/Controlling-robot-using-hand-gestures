{
 "cells": [
  {
   "cell_type": "code",
   "execution_count": 1,
   "id": "c14951a2",
   "metadata": {},
   "outputs": [],
   "source": [
    "from sklearn.linear_model import Perceptron\n",
    "from sklearn.neural_network import MLPClassifier\n",
    "import pandas as pd\n",
    "import numpy as np\n",
    "from sklearn import preprocessing\n",
    "from sklearn.model_selection import train_test_split"
   ]
  },
  {
   "cell_type": "code",
   "execution_count": 2,
   "id": "60a5f7cd",
   "metadata": {},
   "outputs": [
    {
     "name": "stdout",
     "output_type": "stream",
     "text": [
      "   0  0.0  0.0.1  -0.4110429447852761  -0.12883435582822086  \\\n",
      "0  0  0.0    0.0            -0.370370             -0.098765   \n",
      "1  0  0.0    0.0            -0.378049             -0.115854   \n",
      "2  0  0.0    0.0            -0.380952             -0.142857   \n",
      "3  0  0.0    0.0            -0.369697             -0.121212   \n",
      "4  0  0.0    0.0            -0.387879             -0.121212   \n",
      "\n",
      "   -0.7116564417177914  -0.37423312883435583  -0.8404907975460123  \\\n",
      "0            -0.691358             -0.358025            -0.839506   \n",
      "1            -0.695122             -0.365854            -0.841463   \n",
      "2            -0.672619             -0.380952            -0.821429   \n",
      "3            -0.684848             -0.387879            -0.824242   \n",
      "4            -0.690909             -0.375758            -0.824242   \n",
      "\n",
      "   -0.6993865030674846  -0.8343558282208589  ...  -0.1165644171779141  \\\n",
      "0            -0.709877            -0.839506  ...            -0.135802   \n",
      "1            -0.701220            -0.829268  ...            -0.128049   \n",
      "2            -0.702381            -0.815476  ...            -0.113095   \n",
      "3            -0.709091            -0.818182  ...            -0.121212   \n",
      "4            -0.703030            -0.836364  ...            -0.127273   \n",
      "\n",
      "   -0.43558282208588955  0.09202453987730061  -0.7177914110429447  \\\n",
      "0             -0.493827             0.074074            -0.740741   \n",
      "1             -0.481707             0.073171            -0.731707   \n",
      "2             -0.488095             0.095238            -0.714286   \n",
      "3             -0.460606             0.103030            -0.733333   \n",
      "4             -0.472727             0.084848            -0.715152   \n",
      "\n",
      "   0.06748466257668712  -0.9079754601226994  0.05521472392638037  \\\n",
      "0             0.055556            -0.919753             0.049383   \n",
      "1             0.036585            -0.932927             0.030488   \n",
      "2             0.095238            -0.892857             0.065476   \n",
      "3             0.066667            -0.909091             0.048485   \n",
      "4             0.078788            -0.890909             0.060606   \n",
      "\n",
      "   -0.6748466257668712  0.03067484662576687  -0.50920245398773  \n",
      "0            -0.666667             0.024691          -0.530864  \n",
      "1            -0.689024             0.024390          -0.536585  \n",
      "2            -0.660714             0.035714          -0.523810  \n",
      "3            -0.672727             0.030303          -0.515152  \n",
      "4            -0.648485             0.030303          -0.515152  \n",
      "\n",
      "[5 rows x 43 columns]\n"
     ]
    },
    {
     "data": {
      "text/plain": [
       "0                         False\n",
       "0.0                       False\n",
       "0.0.1                     False\n",
       "-0.4110429447852761       False\n",
       "-0.12883435582822086      False\n",
       "-0.7116564417177914       False\n",
       "-0.37423312883435583      False\n",
       "-0.8404907975460123       False\n",
       "-0.6993865030674846       False\n",
       "-0.8343558282208589       False\n",
       "-0.9693251533742331       False\n",
       "-0.5828220858895705       False\n",
       "-0.6932515337423313       False\n",
       "-0.5828220858895705.1     False\n",
       "-0.9325153374233128       False\n",
       "-0.5030674846625767       False\n",
       "-0.6809815950920245       False\n",
       "-0.4662576687116564       False\n",
       "-0.49079754601226994      False\n",
       "-0.3496932515337423       False\n",
       "-0.7484662576687117       False\n",
       "-0.37423312883435583.1    False\n",
       "-1.0                      False\n",
       "-0.3067484662576687       False\n",
       "-0.6441717791411042       False\n",
       "-0.27607361963190186      False\n",
       "-0.4233128834355828       False\n",
       "-0.12883435582822086.1    False\n",
       "-0.754601226993865        False\n",
       "-0.13496932515337423      False\n",
       "-0.9754601226993865       False\n",
       "-0.11042944785276074      False\n",
       "-0.6441717791411042.1     False\n",
       "-0.1165644171779141       False\n",
       "-0.43558282208588955      False\n",
       "0.09202453987730061       False\n",
       "-0.7177914110429447       False\n",
       "0.06748466257668712       False\n",
       "-0.9079754601226994       False\n",
       "0.05521472392638037       False\n",
       "-0.6748466257668712       False\n",
       "0.03067484662576687       False\n",
       "-0.50920245398773         False\n",
       "dtype: bool"
      ]
     },
     "execution_count": 2,
     "metadata": {},
     "output_type": "execute_result"
    }
   ],
   "source": [
    "# Path to the dataset\n",
    "path = \"keypoint.csv\"\n",
    "\n",
    "# Reading dataset\n",
    "df = pd.read_csv(path)\n",
    "\n",
    "# Printing 1st 5 rows of the data set to ensure file and content loaded correctly\n",
    "print( df.head() )\n",
    "\n",
    "# Checking for empty parameters in records\n",
    "df.isna().any()"
   ]
  },
  {
   "cell_type": "code",
   "execution_count": 3,
   "id": "646fbd06",
   "metadata": {},
   "outputs": [],
   "source": [
    "# Separating column numbers from 1 to the last column as input for the MLP classifier\n",
    "X = df.iloc[:, 1:]\n",
    "\n",
    "#Separating 1st column as the output\n",
    "y = df.iloc[:, :1]\n"
   ]
  },
  {
   "cell_type": "code",
   "execution_count": 4,
   "id": "cb80913c",
   "metadata": {},
   "outputs": [],
   "source": [
    "# Splitting data in to training and testing\n",
    "X_train, X_test, y_train, y_test = train_test_split(X, y, test_size = 0.20)"
   ]
  },
  {
   "cell_type": "code",
   "execution_count": 5,
   "id": "b72024af",
   "metadata": {},
   "outputs": [],
   "source": [
    "# Making the MLP model\n",
    "model = MLPClassifier(hidden_layer_sizes=(10),\n",
    "activation='logistic', solver='sgd',\n",
    "learning_rate='constant', learning_rate_init=0.001,\n",
    "max_iter=1000)"
   ]
  },
  {
   "cell_type": "code",
   "execution_count": 6,
   "id": "e87ed1c6",
   "metadata": {},
   "outputs": [
    {
     "name": "stderr",
     "output_type": "stream",
     "text": [
      "c:\\robodk\\python37\\lib\\site-packages\\sklearn\\neural_network\\_multilayer_perceptron.py:696: ConvergenceWarning: Stochastic Optimizer: Maximum iterations (1000) reached and the optimization hasn't converged yet.\n",
      "  ConvergenceWarning,\n"
     ]
    },
    {
     "data": {
      "text/plain": [
       "MLPClassifier(activation='logistic', hidden_layer_sizes=10, max_iter=1000,\n",
       "              solver='sgd')"
      ]
     },
     "execution_count": 6,
     "metadata": {},
     "output_type": "execute_result"
    }
   ],
   "source": [
    "# Training the model on dataset\n",
    "model.fit(X_train, y_train.values.ravel())"
   ]
  },
  {
   "cell_type": "code",
   "execution_count": 10,
   "id": "47514fa2",
   "metadata": {},
   "outputs": [],
   "source": [
    "# Testing the model using test data\n",
    "predictions = model.predict(X_test)"
   ]
  },
  {
   "cell_type": "code",
   "execution_count": 19,
   "id": "282b1bf3",
   "metadata": {},
   "outputs": [
    {
     "name": "stdout",
     "output_type": "stream",
     "text": [
      "0.9938448912597456\n",
      "0.9983606557377049\n"
     ]
    }
   ],
   "source": [
    "# Printing model accuraccy on training dataset and testing dataset\n",
    "print(model.score(X_train, y_train))\n",
    "print(model.score(X_test, y_test))"
   ]
  },
  {
   "cell_type": "code",
   "execution_count": 12,
   "id": "9853851a",
   "metadata": {},
   "outputs": [],
   "source": [
    "# Importing pickle library to save the trained model\n",
    "import pickle"
   ]
  },
  {
   "cell_type": "code",
   "execution_count": 13,
   "id": "b8be6ecd",
   "metadata": {},
   "outputs": [],
   "source": [
    "# Filename/Path for the model to be saved\n",
    "filename = 'finalized_model.sav'\n",
    "\n",
    "# Saving model\n",
    "pickle.dump(model, open(filename, 'wb'))"
   ]
  },
  {
   "cell_type": "code",
   "execution_count": 14,
   "id": "4eabc7f2",
   "metadata": {},
   "outputs": [],
   "source": []
  },
  {
   "cell_type": "code",
   "execution_count": 15,
   "id": "4d3523ca",
   "metadata": {},
   "outputs": [],
   "source": [
    "from sklearn.metrics import confusion_matrix\n",
    "pred = model.predict(X_test)\n",
    "cm = confusion_matrix(pred, y_test)"
   ]
  },
  {
   "cell_type": "code",
   "execution_count": 16,
   "id": "ec5a07cc",
   "metadata": {},
   "outputs": [
    {
     "name": "stdout",
     "output_type": "stream",
     "text": [
      "Confusion matrix: \n",
      "[[114   0   0   0   0]\n",
      " [  0 130   0   0   0]\n",
      " [  0   0 133   1   0]\n",
      " [  0   0   0 118   0]\n",
      " [  0   0   0   0 114]]\n",
      "\n",
      "Accuracy of MLP Classifier : 0.9983606557377049\n"
     ]
    }
   ],
   "source": [
    "print(\"Confusion matrix: \")\n",
    "print(cm)\n",
    "\n",
    "# function taken from https://python-course.eu/machine-learning/confusion-matrix-in-machine-learning.php\n",
    "def accuracy(confusion_matrix):\n",
    "   diagonal_sum = confusion_matrix.trace()\n",
    "   sum_of_all_elements = confusion_matrix.sum()\n",
    "   return diagonal_sum / sum_of_all_elements\n",
    "\n",
    "print(\"\\nAccuracy of MLP Classifier :\" , accuracy(cm))"
   ]
  },
  {
   "cell_type": "code",
   "execution_count": null,
   "id": "98dbba76",
   "metadata": {},
   "outputs": [],
   "source": []
  }
 ],
 "metadata": {
  "kernelspec": {
   "display_name": "Python 3 (ipykernel)",
   "language": "python",
   "name": "python3"
  },
  "language_info": {
   "codemirror_mode": {
    "name": "ipython",
    "version": 3
   },
   "file_extension": ".py",
   "mimetype": "text/x-python",
   "name": "python",
   "nbconvert_exporter": "python",
   "pygments_lexer": "ipython3",
   "version": "3.7.3"
  }
 },
 "nbformat": 4,
 "nbformat_minor": 5
}
